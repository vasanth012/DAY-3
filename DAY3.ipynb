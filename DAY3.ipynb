{
  "nbformat": 4,
  "nbformat_minor": 0,
  "metadata": {
    "colab": {
      "provenance": []
    },
    "kernelspec": {
      "name": "python3",
      "display_name": "Python 3"
    },
    "language_info": {
      "name": "python"
    }
  },
  "cells": [
    {
      "cell_type": "code",
      "execution_count": 2,
      "metadata": {
        "colab": {
          "base_uri": "https://localhost:8080/"
        },
        "id": "NMsNra13ekS1",
        "outputId": "9c8e4d9a-2d40-4b60-f31a-a82ec365317b"
      },
      "outputs": [
        {
          "output_type": "stream",
          "name": "stdout",
          "text": [
            "Enter marks in subject 1: 76\n",
            "Enter marks in subject 2: 80\n",
            "Enter marks in subject 3: 92\n",
            "Grade: B\n"
          ]
        }
      ],
      "source": [
        "def calculate_grade(marks1, marks2, marks3):\n",
        "    \"\"\"\n",
        "    Calculates the grade based on the average of three subject marks.\n",
        "\n",
        "    Args:\n",
        "        marks1: Marks in the first subject.\n",
        "        marks2: Marks in the second subject.\n",
        "        marks3: Marks in the third subject.\n",
        "\n",
        "    Returns:\n",
        "        str: The calculated grade.\n",
        "    \"\"\"\n",
        "    average = (marks1 + marks2 + marks3) / 3\n",
        "\n",
        "    if average >= 90:\n",
        "        return \"Grade: A\"\n",
        "    elif 80 <= average < 90:\n",
        "        return \"Grade: B\"\n",
        "    elif 70 <= average < 80:\n",
        "        return \"Grade: C\"\n",
        "    else:\n",
        "        return \"Grade: Fail\"\n",
        "\n",
        "\n",
        "# Get input from the user\n",
        "try:\n",
        "    marks1 = float(input(\"Enter marks in subject 1: \"))\n",
        "    marks2 = float(input(\"Enter marks in subject 2: \"))\n",
        "    marks3 = float(input(\"Enter marks in subject 3: \"))\n",
        "\n",
        "    # Ensure the marks are valid\n",
        "    if 0 <= marks1 <= 100 and 0 <= marks2 <= 100 and 0 <= marks3 <= 100:\n",
        "        # Calculate and print the grade\n",
        "        grade = calculate_grade(marks1, marks2, marks3)\n",
        "        print(grade)\n",
        "    else:\n",
        "        print(\"Error: Marks should be between 0 and 100.\")\n",
        "except ValueError:\n",
        "    print(\"Error: Please enter valid numerical marks.\")\n"
      ]
    },
    {
      "cell_type": "code",
      "source": [],
      "metadata": {
        "id": "mvGlot3mesKd"
      },
      "execution_count": null,
      "outputs": []
    }
  ]
}